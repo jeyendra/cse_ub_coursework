{
  "cells": [
    {
      "cell_type": "code",
      "execution_count": null,
      "metadata": {
        "id": "90XuubgPm_Zi"
      },
      "outputs": [],
      "source": [
        "import pandas as pd\n",
        "import json\n",
        "\n",
        "# Read the CSV file\n",
        "df = pd.read_csv('unigram_freq.csv')\n",
        "\n",
        "# Create a dictionary to store word counts\n",
        "word_counts = {}\n",
        "for index, row in df.iterrows():\n",
        "    word = row['word']\n",
        "    count = row['count']\n",
        "    word_counts[word] = count\n",
        "\n",
        "\n",
        "# Read the existing JSON file\n",
        "with open('ar_data.json', 'r') as json_file:\n",
        "    data = json.load(json_file)\n",
        "\n",
        "c = 0\n",
        "# Update the JSON data with word counts\n",
        "for item in data:\n",
        "    word = item['word']\n",
        "    if word in word_counts:\n",
        "        item['freq'] = word_counts[word]\n",
        "        c+=1\n",
        "        item['source']['frequency'] = 'Google Web Trillion Word Corpus'\n",
        "    else:\n",
        "        item['freq'] = 0\n",
        "        item['source']['frequency'] = ''\n",
        "\n",
        "# Write the updated data back to the JSON file\n",
        "with open('alldata.json', 'w') as json_file:\n",
        "    json.dump(data, json_file, indent=4)"
      ]
    },
    {
      "cell_type": "code",
      "execution_count": null,
      "metadata": {
        "id": "rYt9I_01mOme"
      },
      "outputs": [],
      "source": [
        "\n",
        "\n",
        "\n"
      ]
    },
    {
      "cell_type": "code",
      "execution_count": null,
      "metadata": {
        "colab": {
          "base_uri": "https://localhost:8080/"
        },
        "id": "TYLqDWkLnH30",
        "outputId": "f4d142ff-2e17-4cee-a267-8f1e63ca469a"
      },
      "outputs": [
        {
          "name": "stdout",
          "output_type": "stream",
          "text": [
            "[{'word': 'abetted', 'source': {'word': 'cmudict', 'POS': 'wordnet', 'category': 'wordnet', 'frequency': 'Google Web Trillion Word Corpus'}, 'phoneme': ['AH', 'B', 'EH', 'T', 'IH', 'D'], 'POA': ['-', 'bilabial', '-', 'dental;alveolar', '-', 'dental;alveolar'], 'MOA': ['-', 'plosive', '-', 'plosive', '-', 'plosive'], 'VOA': ['-', 'voiced', '-', 'voiceless', '-', 'voiced'], 'H': ['open-mid', '-', 'open-mid', '-', 'near-close', '-'], 'B': ['back', '-', 'front', '-', 'near-front', '-'], 'R': ['unrounded', '-', 'unrounded', '-', 'unrounded', '-'], 'freq': 145570}, {'word': 'abetter', 'source': {'word': 'websterdictionary', 'POS': 'wordnet', 'category': 'wordnet', 'frequency': ''}, 'phoneme': ['AH', 'B', 'EH', 'T', 'ER'], 'POA': ['-', 'bilabial', '-', 'dental;alveolar', '-'], 'MOA': ['-', 'plosive', '-', 'plosive', '-'], 'VOA': ['-', 'voiced', '-', 'voiceless', '-'], 'H': ['open-mid', '-', 'open-mid', '-', '-'], 'B': ['back', '-', 'front', '-', '-'], 'R': ['unrounded', '-', 'unrounded', '-', '-'], 'freq': 0}, {'word': 'abetting', 'source': {'word': 'cmudict', 'POS': 'wordnet', 'category': 'wordnet', 'frequency': 'Google Web Trillion Word Corpus'}, 'phoneme': ['AH', 'B', 'EH', 'T', 'IH', 'NG'], 'POA': ['-', 'bilabial', '-', 'dental;alveolar', '-', 'velar'], 'MOA': ['-', 'plosive', '-', 'plosive', '-', 'nasal'], 'VOA': ['-', 'voiced', '-', 'voiceless', '-', 'voiced'], 'H': ['open-mid', '-', 'open-mid', '-', 'near-close', '-'], 'B': ['back', '-', 'front', '-', 'near-front', '-'], 'R': ['unrounded', '-', 'unrounded', '-', 'unrounded', '-'], 'freq': 233760}, {'word': 'abettor', 'source': {'word': 'websterdictionary', 'category': 'conceptnet', 'POS': 'wordnet', 'frequency': 'Google Web Trillion Word Corpus'}, 'phoneme': ['AH', 'B', 'EH', 'T', 'ER'], 'POA': ['-', 'bilabial', '-', 'dental;alveolar', '-'], 'MOA': ['-', 'plosive', '-', 'plosive', '-'], 'VOA': ['-', 'voiced', '-', 'voiceless', '-'], 'H': ['open-mid', '-', 'open-mid', '-', '-'], 'B': ['back', '-', 'front', '-', '-'], 'R': ['unrounded', '-', 'unrounded', '-', '-'], 'freq': 19013}, {'word': 'abevacuation', 'source': {'word': 'websterdictionary', 'POS': 'spacy', 'category': '', 'frequency': ''}, 'phoneme': ['AE', 'B', 'AH', 'V', 'AE', 'K', 'UW', 'EY', 'SH', 'AH', 'N'], 'POA': ['-', 'bilabial', '-', 'labiodental', '-', 'velar', '-', '-', 'postalveolar', '-', 'dental;alveolar'], 'MOA': ['-', 'plosive', '-', 'fricative', '-', 'plosive', '-', '-', 'fricative', '-', 'nasal'], 'VOA': ['-', 'voiced', '-', 'voiced', '-', 'voiceless', '-', '-', 'voiceless', '-', 'voiced'], 'H': ['near-open', '-', 'open-mid', '-', 'near-open', '-', 'close', '-', '-', 'open-mid', '-'], 'B': ['front', '-', 'back', '-', 'front', '-', 'back', '-', '-', 'back', '-'], 'R': ['unrounded', '-', 'unrounded', '-', 'unrounded', '-', 'rounded', '-', '-', 'unrounded', '-'], 'freq': 0}, {'word': 'abex', 'source': {'word': 'cmudict', 'POS': 'spacy', 'category': '', 'frequency': 'Google Web Trillion Word Corpus'}, 'phoneme': ['AE', 'B', 'EH', 'K', 'S'], 'POA': ['-', 'bilabial', '-', 'velar', 'alveolar'], 'MOA': ['-', 'plosive', '-', 'plosive', 'fricative'], 'VOA': ['-', 'voiced', '-', 'voiceless', 'voiceless'], 'H': ['near-open', '-', 'open-mid', '-', '-'], 'B': ['front', '-', 'front', '-', '-'], 'R': ['unrounded', '-', 'unrounded', '-', '-'], 'freq': 13833}, {'word': 'abeyance', 'source': {'word': 'websterdictionary', 'category': 'conceptnet', 'POS': 'wordnet', 'frequency': 'Google Web Trillion Word Corpus'}, 'phoneme': ['AH', 'B', 'EY', 'AH', 'N', 'S'], 'POA': ['-', 'bilabial', '-', '-', 'dental;alveolar', 'alveolar'], 'MOA': ['-', 'plosive', '-', '-', 'nasal', 'fricative'], 'VOA': ['-', 'voiced', '-', '-', 'voiced', 'voiceless'], 'H': ['open-mid', '-', '-', 'open-mid', '-', '-'], 'B': ['back', '-', '-', 'back', '-', '-'], 'R': ['unrounded', '-', '-', 'unrounded', '-', '-'], 'freq': 131094}, {'word': 'abeyancy', 'source': {'word': 'websterdictionary', 'POS': 'spacy', 'category': '', 'frequency': ''}, 'phoneme': ['AH', 'B', 'EY', 'AH', 'N', 'S', 'IY'], 'POA': ['-', 'bilabial', '-', '-', 'dental;alveolar', 'alveolar', '-'], 'MOA': ['-', 'plosive', '-', '-', 'nasal', 'fricative', '-'], 'VOA': ['-', 'voiced', '-', '-', 'voiced', 'voiceless', '-'], 'H': ['open-mid', '-', '-', 'open-mid', '-', '-', 'close'], 'B': ['back', '-', '-', 'back', '-', '-', 'front'], 'R': ['unrounded', '-', '-', 'unrounded', '-', '-', 'unrounded'], 'freq': 0}, {'word': 'abeyant', 'source': {'word': 'websterdictionary', 'POS': 'wordnet', 'category': '', 'frequency': ''}, 'phoneme': ['AH', 'B', 'EY', 'AH', 'N', 'T'], 'POA': ['-', 'bilabial', '-', '-', 'dental;alveolar', 'dental;alveolar'], 'MOA': ['-', 'plosive', '-', '-', 'nasal', 'plosive'], 'VOA': ['-', 'voiced', '-', '-', 'voiced', 'voiceless'], 'H': ['open-mid', '-', '-', 'open-mid', '-', '-'], 'B': ['back', '-', '-', 'back', '-', '-'], 'R': ['unrounded', '-', '-', 'unrounded', '-', '-'], 'freq': 0}, {'word': 'abeyta', 'source': {'word': 'cmudict', 'POS': 'spacy', 'category': '', 'frequency': 'Google Web Trillion Word Corpus'}, 'phoneme': ['AH', 'B', 'EY', 'T', 'AH'], 'POA': ['-', 'bilabial', '-', 'dental;alveolar', '-'], 'MOA': ['-', 'plosive', '-', 'plosive', '-'], 'VOA': ['-', 'voiced', '-', 'voiceless', '-'], 'H': ['open-mid', '-', '-', '-', 'open-mid'], 'B': ['back', '-', '-', '-', 'back'], 'R': ['unrounded', '-', '-', '-', 'unrounded'], 'freq': 28484}, {'word': 'abfarad', 'source': {'word': 'conceptnet', 'category': 'conceptnet', 'POS': 'wordnet', 'frequency': ''}, 'phoneme': ['AE', 'B', 'F', 'AA', 'R', 'AA', 'D'], 'POA': ['-', 'bilabial', 'labiodental', '-', 'dental;alveolar', '-', 'dental;alveolar'], 'MOA': ['-', 'plosive', 'fricative', '-', 'approximant', '-', 'plosive'], 'VOA': ['-', 'voiced', 'voiceless', '-', 'voiced', '-', 'voiced'], 'H': ['near-open', '-', '-', 'open', '-', 'open', '-'], 'B': ['front', '-', '-', 'back', '-', 'back', '-'], 'R': ['unrounded', '-', '-', 'unrounded', '-', 'unrounded', '-'], 'freq': 0}, {'word': 'abgeordnetenhaus', 'source': {'word': 'websterdictionary', 'POS': 'spacy', 'category': '', 'frequency': ''}, 'phoneme': ['AE', 'B', 'JH', 'AO', 'R', 'D', 'N', 'EH', 'T', 'IH', 'N', 'HH', 'AW', 'Z'], 'POA': ['-', 'bilabial', 'palatal', '-', 'dental;alveolar', 'dental;alveolar', 'dental;alveolar', '-', 'dental;alveolar', '-', 'dental;alveolar', 'glottal', '-', 'alveolar'], 'MOA': ['-', 'plosive', 'affricate', '-', 'approximant', 'plosive', 'nasal', '-', 'plosive', '-', 'nasal', 'fricative', '-', 'fricative'], 'VOA': ['-', 'voiced', 'voiced', '-', 'voiced', 'voiced', 'voiced', '-', 'voiceless', '-', 'voiced', 'voiceless', '-', 'voiced'], 'H': ['near-open', '-', '-', 'open-mid', '-', '-', '-', 'open-mid', '-', 'near-close', '-', '-', '-', '-'], 'B': ['front', '-', '-', 'back', '-', '-', '-', 'front', '-', 'near-front', '-', '-', '-', '-'], 'R': ['unrounded', '-', '-', 'rounded', '-', '-', '-', 'unrounded', '-', 'unrounded', '-', '-', '-', '-'], 'freq': 0}, {'word': 'abgoosht', 'source': {'word': 'conceptnet', 'category': 'conceptnet', 'POS': 'spacy', 'frequency': ''}, 'phoneme': ['AE', 'B', 'G', 'UH', 'SH', 'T'], 'POA': ['-', 'bilabial', 'velar', '-', 'postalveolar', 'dental;alveolar'], 'MOA': ['-', 'plosive', 'plosive', '-', 'fricative', 'plosive'], 'VOA': ['-', 'voiced', 'voiced', '-', 'voiceless', 'voiceless'], 'H': ['near-open', '-', '-', 'near-close', '-', '-'], 'B': ['front', '-', '-', 'near-back', '-', '-'], 'R': ['unrounded', '-', '-', 'rounded', '-', '-'], 'freq': 0}, {'word': 'abhal', 'source': {'word': 'websterdictionary', 'POS': 'spacy', 'category': '', 'frequency': ''}, 'phoneme': ['AE', 'B', 'HH', 'AA', 'L'], 'POA': ['-', 'bilabial', 'glottal', '-', 'dental;alveolar'], 'MOA': ['-', 'plosive', 'fricative', '-', 'lateral approximant'], 'VOA': ['-', 'voiced', 'voiceless', '-', 'voiced'], 'H': ['near-open', '-', '-', 'open', '-'], 'B': ['front', '-', '-', 'back', '-'], 'R': ['unrounded', '-', '-', 'unrounded', '-'], 'freq': 0}, {'word': 'abhenry', 'source': {'word': 'conceptnet', 'category': 'conceptnet', 'POS': 'wordnet', 'frequency': ''}, 'phoneme': ['AE', 'B', 'HH', 'EH', 'N', 'R', 'IY'], 'POA': ['-', 'bilabial', 'glottal', '-', 'dental;alveolar', 'dental;alveolar', '-'], 'MOA': ['-', 'plosive', 'fricative', '-', 'nasal', 'approximant', '-'], 'VOA': ['-', 'voiced', 'voiceless', '-', 'voiced', 'voiced', '-'], 'H': ['near-open', '-', '-', 'open-mid', '-', '-', 'close'], 'B': ['front', '-', '-', 'front', '-', '-', 'front'], 'R': ['unrounded', '-', '-', 'unrounded', '-', '-', 'unrounded'], 'freq': 0}, {'word': 'abhimanyu', 'source': {'word': 'conceptnet', 'category': 'conceptnet', 'POS': 'spacy', 'frequency': 'Google Web Trillion Word Corpus'}, 'phoneme': ['AE', 'B', 'HH', 'IH', 'M', 'AA', 'N', 'Y', 'UW'], 'POA': ['-', 'bilabial', 'glottal', '-', 'bilabial', '-', 'dental;alveolar', 'palatal', '-'], 'MOA': ['-', 'plosive', 'fricative', '-', 'nasal', '-', 'nasal', 'approximant', '-'], 'VOA': ['-', 'voiced', 'voiceless', '-', 'voiced', '-', 'voiced', 'voiced', '-'], 'H': ['near-open', '-', '-', 'near-close', '-', 'open', '-', '-', 'close'], 'B': ['front', '-', '-', 'near-front', '-', 'back', '-', '-', 'back'], 'R': ['unrounded', '-', '-', 'unrounded', '-', 'unrounded', '-', '-', 'rounded'], 'freq': 20716}, {'word': 'abhominable', 'source': {'word': 'websterdictionary', 'POS': 'spacy', 'category': '', 'frequency': ''}, 'phoneme': ['AH', 'B', 'HH', 'AA', 'M', 'AH', 'N', 'AH', 'B', 'AH', 'L'], 'POA': ['-', 'bilabial', 'glottal', '-', 'bilabial', '-', 'dental;alveolar', '-', 'bilabial', '-', 'dental;alveolar'], 'MOA': ['-', 'plosive', 'fricative', '-', 'nasal', '-', 'nasal', '-', 'plosive', '-', 'lateral approximant'], 'VOA': ['-', 'voiced', 'voiceless', '-', 'voiced', '-', 'voiced', '-', 'voiced', '-', 'voiced'], 'H': ['open-mid', '-', '-', 'open', '-', 'open-mid', '-', 'open-mid', '-', 'open-mid', '-'], 'B': ['back', '-', '-', 'back', '-', 'back', '-', 'back', '-', 'back', '-'], 'R': ['unrounded', '-', '-', 'unrounded', '-', 'unrounded', '-', 'unrounded', '-', 'unrounded', '-'], 'freq': 0}, {'word': 'abhominal', 'source': {'word': 'websterdictionary', 'POS': 'spacy', 'category': '', 'frequency': ''}, 'phoneme': ['AH', 'B', 'HH', 'AA', 'M', 'AH', 'N', 'AH', 'L'], 'POA': ['-', 'bilabial', 'glottal', '-', 'bilabial', '-', 'dental;alveolar', '-', 'dental;alveolar'], 'MOA': ['-', 'plosive', 'fricative', '-', 'nasal', '-', 'nasal', '-', 'lateral approximant'], 'VOA': ['-', 'voiced', 'voiceless', '-', 'voiced', '-', 'voiced', '-', 'voiced'], 'H': ['open-mid', '-', '-', 'open', '-', 'open-mid', '-', 'open-mid', '-'], 'B': ['back', '-', '-', 'back', '-', 'back', '-', 'back', '-'], 'R': ['unrounded', '-', '-', 'unrounded', '-', 'unrounded', '-', 'unrounded', '-'], 'freq': 0}, {'word': 'abhor', 'source': {'word': 'websterdictionary', 'POS': 'wordnet', 'category': 'wordnet', 'frequency': 'Google Web Trillion Word Corpus'}, 'phoneme': ['AH', 'B', 'HH', 'AO', 'R'], 'POA': ['-', 'bilabial', 'glottal', '-', 'dental;alveolar'], 'MOA': ['-', 'plosive', 'fricative', '-', 'approximant'], 'VOA': ['-', 'voiced', 'voiceless', '-', 'voiced'], 'H': ['open-mid', '-', '-', 'open-mid', '-'], 'B': ['back', '-', '-', 'back', '-'], 'R': ['unrounded', '-', '-', 'rounded', '-'], 'freq': 169167}, {'word': 'abhorence', 'source': {'word': 'conceptnet', 'category': 'conceptnet', 'POS': 'spacy', 'frequency': ''}, 'phoneme': ['AE', 'B', 'HH', 'AO', 'R', 'AH', 'N', 'S'], 'POA': ['-', 'bilabial', 'glottal', '-', 'dental;alveolar', '-', 'dental;alveolar', 'alveolar'], 'MOA': ['-', 'plosive', 'fricative', '-', 'approximant', '-', 'nasal', 'fricative'], 'VOA': ['-', 'voiced', 'voiceless', '-', 'voiced', '-', 'voiced', 'voiceless'], 'H': ['near-open', '-', '-', 'open-mid', '-', 'open-mid', '-', '-'], 'B': ['front', '-', '-', 'back', '-', 'back', '-', '-'], 'R': ['unrounded', '-', '-', 'rounded', '-', 'unrounded', '-', '-'], 'freq': 0}]\n"
          ]
        }
      ],
      "source": [
        "with open('alldata.json', 'r') as json_file:\n",
        "    data = json.load(json_file)\n",
        "\n",
        "    print(data[300:320])"
      ]
    },
    {
      "cell_type": "code",
      "execution_count": null,
      "metadata": {
        "id": "kythiNevoUBK"
      },
      "outputs": [],
      "source": [
        "with open('final2.json', 'r') as json_file:\n",
        "    data = json.load(json_file)\n",
        "\n",
        "    count = 0  # Initialize a counter for words without a 'freq' value\n",
        "\n",
        "    for item in data:\n",
        "        count += 1\n",
        "\n",
        "print(f\"Number of words without a 'freq' value: {count}\")\n"
      ]
    },
    {
      "cell_type": "code",
      "execution_count": null,
      "metadata": {
        "id": "XSgNtcWlqaMA"
      },
      "outputs": [],
      "source": [
        "with open('final2.json', 'r') as json_file:\n",
        "    data = json.load(json_file)\n",
        "\n",
        "    for item in data:\n",
        "        if 'freq' not in item or item['freq'] == '':\n",
        "            print(item)\n",
        "            break  # This will print the first matching word and exit the loop\n"
      ]
    },
    {
      "cell_type": "code",
      "execution_count": null,
      "metadata": {
        "id": "H5M3IVxtrcpl"
      },
      "outputs": [],
      "source": []
    }
  ],
  "metadata": {
    "colab": {
      "provenance": []
    },
    "kernelspec": {
      "display_name": "Python 3",
      "name": "python3"
    },
    "language_info": {
      "name": "python"
    }
  },
  "nbformat": 4,
  "nbformat_minor": 0
}
